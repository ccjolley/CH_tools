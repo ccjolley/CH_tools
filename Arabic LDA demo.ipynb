{
 "cells": [
  {
   "cell_type": "markdown",
   "metadata": {},
   "source": [
    "# Topic Modeling demo (Arabic)"
   ]
  },
  {
   "cell_type": "code",
   "execution_count": 2,
   "metadata": {
    "collapsed": false
   },
   "outputs": [],
   "source": [
    "import numpy as np\n",
    "import numpy.matlib\n",
    "import pandas as pd\n",
    "import lda\n",
    "from glob import glob\n",
    "from stop_words import get_stop_words\n",
    "import os"
   ]
  },
  {
   "cell_type": "markdown",
   "metadata": {},
   "source": [
    "## Loading data\n",
    "The data we're using for this demo comes from the لنتفق الآن (\"Let's Agree Now!\") Facebook page. Most posts are in Arabic, and they will address a variety of different topics. Some posts come from the account owner, while the majority will be contributed by visitors to their page. The first five entries are shown below."
   ]
  },
  {
   "cell_type": "code",
   "execution_count": 5,
   "metadata": {
    "collapsed": false
   },
   "outputs": [
    {
     "data": {
      "text/html": [
       "<div>\n",
       "<table border=\"1\" class=\"dataframe\">\n",
       "  <thead>\n",
       "    <tr style=\"text-align: right;\">\n",
       "      <th></th>\n",
       "      <th>Author</th>\n",
       "      <th>Contents</th>\n",
       "    </tr>\n",
       "  </thead>\n",
       "  <tbody>\n",
       "    <tr>\n",
       "      <th>0</th>\n",
       "      <td>Franc Slame</td>\n",
       "      <td>انتو تفرحو بناقلت نفط ونحن نفرح لتحري أرض الوطن ياانجاس</td>\n",
       "    </tr>\n",
       "    <tr>\n",
       "      <th>1</th>\n",
       "      <td>Salma Abu</td>\n",
       "      <td>وأخيرا</td>\n",
       "    </tr>\n",
       "    <tr>\n",
       "      <th>2</th>\n",
       "      <td>الحفره الحفره</td>\n",
       "      <td>سبب الخراب والدمار فبراير اليوم الاسود 2011/2/17</td>\n",
       "    </tr>\n",
       "    <tr>\n",
       "      <th>3</th>\n",
       "      <td>غدا اجمل</td>\n",
       "      <td>يا خوي اتق الله كيف تحلف بالله علي شي في علم الغيب .. الله وحده العالم بشن حيصير في البلاد .. ومن اللي حيرضى انه بلادنا تنباع ؟؟؟؟</td>\n",
       "    </tr>\n",
       "    <tr>\n",
       "      <th>4</th>\n",
       "      <td>Abdo Altwel</td>\n",
       "      <td>مفروض كل واحد فيهم ايروح على رجليه لن  يوصل حوشه تو بعدين يتعلمو التشحيط</td>\n",
       "    </tr>\n",
       "  </tbody>\n",
       "</table>\n",
       "</div>"
      ],
      "text/plain": [
       "          Author  \\\n",
       "0    Franc Slame   \n",
       "1      Salma Abu   \n",
       "2  الحفره الحفره   \n",
       "3       غدا اجمل   \n",
       "4    Abdo Altwel   \n",
       "\n",
       "                                                                                                                             Contents  \n",
       "0                                                                             انتو تفرحو بناقلت نفط ونحن نفرح لتحري أرض الوطن ياانجاس  \n",
       "1                                                                                                                              وأخيرا  \n",
       "2                                                                                    سبب الخراب والدمار فبراير اليوم الاسود 2011/2/17  \n",
       "3  يا خوي اتق الله كيف تحلف بالله علي شي في علم الغيب .. الله وحده العالم بشن حيصير في البلاد .. ومن اللي حيرضى انه بلادنا تنباع ؟؟؟؟  \n",
       "4                                                            مفروض كل واحد فيهم ايروح على رجليه لن  يوصل حوشه تو بعدين يتعلمو التشحيط  "
      ]
     },
     "execution_count": 5,
     "metadata": {},
     "output_type": "execute_result"
    }
   ],
   "source": [
    "os.chdir('C:\\\\Users\\\\Craig\\\\Desktop\\\\Live projects\\\\Libya\\\\Python LDA')\n",
    "xls = pd.concat([pd.read_excel(x) for x in glob('Lets Agree Now*.xls')])\n",
    "pd.set_option('display.max_colwidth', 1000)\n",
    "xls[['Author','Contents']].head(5)"
   ]
  },
  {
   "cell_type": "markdown",
   "metadata": {},
   "source": [
    "## Stop words\n",
    "In the field of Natural Language Processing (NLP), certain words are known as *stop words*. These are very common words -- English examples could include \"the\", \"of\", \"is\", \"and\", \"or\", etc. -- that often don't tell us very much about the subject of the sentence that contains them. We'll be using a set of common Arabic stop words that are commonly used by NLP researchers. Here are the first 20, to give a sense of what kind of words we're talking about."
   ]
  },
  {
   "cell_type": "code",
   "execution_count": 12,
   "metadata": {
    "collapsed": false
   },
   "outputs": [
    {
     "name": "stdout",
     "output_type": "stream",
     "text": [
      "['فى', 'في', 'كل', 'لم', 'لن', 'له', 'من', 'هو', 'هي', 'قوة', 'كما', 'لها', 'منذ', 'وقد', 'ولا', 'نفسه', 'لقاء', 'مقابل', 'هناك', 'وقال']\n"
     ]
    }
   ],
   "source": [
    "asw = get_stop_words('arabic')\n",
    "print(asw[:20])"
   ]
  },
  {
   "cell_type": "markdown",
   "metadata": {},
   "source": [
    "If we need to, we can add more stopwords at this point"
   ]
  },
  {
   "cell_type": "code",
   "execution_count": 8,
   "metadata": {
    "collapsed": false
   },
   "outputs": [
    {
     "name": "stdout",
     "output_type": "stream",
     "text": [
      "['صفر', 'بها', 'اي', 'او', 'ان', 'اف', 'ثم', 'به', 'بن', 'حاليا', 'بشكل', 'غير', 'اجل', 'بان', 'اخرى', 'اربعة', 'اطار', 'صباح', 'شخصا']\n",
      "['ليبيا', 'صفر', 'بها', 'اي', 'او', 'ان', 'اف', 'ثم', 'به', 'بن', 'حاليا', 'بشكل', 'غير', 'اجل', 'بان', 'اخرى', 'اربعة', 'اطار', 'صباح']\n"
     ]
    }
   ],
   "source": [
    "#print(asw[:-20:-1])\n",
    "#asw.append('ليبيا') # Add \"Libya\"\n",
    "#print(asw[:-20:-1])"
   ]
  },
  {
   "cell_type": "markdown",
   "metadata": {},
   "source": [
    "## Preparing for topic modeling\n",
    "Topic modeling algorithms often struggle to identify the topic of very short pieces of text. We'll get around this by only paying attention to posts with more than 250 characters -- there are 2,342 such posts. We're also going to simplify things by removing numbers and URLs, since they're not likely to tell us much about topics.\n",
    "\n",
    "Those long posts are then passed to an algorithm called a *vectorizer* that turns the set of posts into a matrix of numbers, because computers generally prefer to work with numbers. This is done by identifying the *vocabulary* of all words that appear at least once (45,085 of them) and counting the number of times that each word appears in each post. This means we have a 2342x45085 array of numbers (known as a *document-term matrix* or DTM), for 2,342 documents and 45,085 words."
   ]
  },
  {
   "cell_type": "code",
   "execution_count": 10,
   "metadata": {
    "collapsed": false
   },
   "outputs": [],
   "source": [
    "xls['Filtered'] = xls['Contents'].replace(r'\\d+','',regex=True)\n",
    "xls['Filtered'] = xls['Filtered'].replace(r'https?://[\\w./]+','',regex=True)"
   ]
  },
  {
   "cell_type": "code",
   "execution_count": 13,
   "metadata": {
    "collapsed": false
   },
   "outputs": [
    {
     "data": {
      "text/plain": [
       "(2342, 45085)"
      ]
     },
     "execution_count": 13,
     "metadata": {},
     "output_type": "execute_result"
    }
   ],
   "source": [
    "def getlen(x):\n",
    "    try:\n",
    "        return(len(x))\n",
    "    except:\n",
    "        return(0)\n",
    "xls['strlen'] = xls['Filtered'].apply(getlen)\n",
    "long_posts = xls[xls.strlen > 250].reset_index(drop=True)\n",
    "from sklearn.feature_extraction.text import CountVectorizer\n",
    "vect = CountVectorizer(stop_words=asw) \n",
    "vect.fit(long_posts.Filtered)\n",
    "long_dtm = vect.transform(long_posts.Filtered)\n",
    "vocab = vect.get_feature_names()\n",
    "long_dtm.shape"
   ]
  },
  {
   "cell_type": "markdown",
   "metadata": {},
   "source": [
    "## Fitting the topic model\n",
    "The algorithm we're using is called LDA (Latent Dirichlet Allocation). The basic idea is that we give it a set of documents (or more precisely a DTM), and ask it to identify a specific number of topics (20 in this case). Each document is given a *probability* of belonging to each topic. For each topic, every word has a *weight* -- the words with the highest weights are the ones that are most important to the topic.\n",
    "\n",
    "Part of the model-fitting algorithm requires a random-number generator -- this means that the results will be slightly different each time. We're going to fit the model twice, because we suspect that topics that are consistent between the two versions of the fitted model will be more reliable."
   ]
  },
  {
   "cell_type": "code",
   "execution_count": 14,
   "metadata": {
    "collapsed": false
   },
   "outputs": [
    {
     "data": {
      "text/plain": [
       "<lda.lda.LDA at 0x1cd392e9cf8>"
      ]
     },
     "execution_count": 14,
     "metadata": {},
     "output_type": "execute_result"
    }
   ],
   "source": [
    "myLDA1 = lda.LDA(n_topics=20, n_iter=1500, random_state=1)\n",
    "myLDA1.fit(long_dtm)\n",
    "myLDA2 = lda.LDA(n_topics=20, n_iter=1500, random_state=2)\n",
    "myLDA2.fit(long_dtm)"
   ]
  },
  {
   "cell_type": "code",
   "execution_count": 15,
   "metadata": {
    "collapsed": false
   },
   "outputs": [],
   "source": [
    "tw1 = myLDA1.topic_word_\n",
    "tw2 = myLDA2.topic_word_\n",
    "ldamat1 = myLDA1.transform(long_dtm)\n",
    "ldamat2 = myLDA2.transform(long_dtm)"
   ]
  },
  {
   "cell_type": "markdown",
   "metadata": {},
   "source": [
    "## Summarizing topics\n",
    "We can quickly get a sense of what some of the major topics on the \"Let's Agree Now!\" Facebook page are by looking at the 8 most heavily-weighted terms in each topic. Here are the results for the first version of the fitted model:"
   ]
  },
  {
   "cell_type": "code",
   "execution_count": 16,
   "metadata": {
    "collapsed": false
   },
   "outputs": [
    {
     "name": "stdout",
     "output_type": "stream",
     "text": [
      "Topic 0: الوطني الوفاق إن حكومة السيد رئيس مجلس أن\n",
      "Topic 1: الآن لنتفق لنتفق_الآن type photos timeline الله تشجيع\n",
      "Topic 2: الله الوكيل ونعم حسبي حسبنا العظيم سبحان الدولار\n",
      "Topic 3: إلى أن المتحدة الليبي السياسي كوبلر حكومة الاتفاق\n",
      "Topic 4: المجلس الرئاسي الوفاق الوطني لحكومة طرابلس رئيس السراج\n",
      "Topic 5: علي الي الجيش بنغازي الغرب معمر الشعب العالم\n",
      "Topic 6: أن إلى أو ورد وأن أي مجلس الدولة\n",
      "Topic 7: الاتفاق السياسي للدولة الأعلى السويحلي المجلس الدولة حسب\n",
      "Topic 8: فينا ﻣﻦ ﺑﺎﻟﻠﻪ ﺇﻻ ﺍﻟﻠﻪ منه ﻭﻻ ليبي\n",
      "Topic 9: إلى أن داعش أي إن تنظيم بأن عبر\n",
      "Topic 10: لله الله الملك مافي مابعده الآن لنتفق لنتفق_الآن\n",
      "Topic 11: اللي مش البلاد علي بس والله الي يا\n",
      "Topic 12: النواب مجلس أن المجلس الوفاق إلى الرئاسي الثقة\n",
      "Topic 13: حكومة أن الليبي الحكومة الأوروبي الوفاق السراج الخارجية\n",
      "Topic 14: وكالة التضامن أنباء إلى لنتفق الآن أن الليبية\n",
      "Topic 15: الله الوطن يا علي والله نحن لنا ولكن\n",
      "Topic 16: لنتفق الآن لنتفق_الآن libya com السلام فيديو visa\n",
      "Topic 17: اللهم الله ال يا وا ﺍﻟﻠﻪ ﺍﻛﺒﺮ محمد\n",
      "Topic 18: يجب نحن أو البلاد هل تكون ليس هم\n",
      "Topic 19: اللي سيتم تعليقات بـ التوافق الآن الليبي منا\n"
     ]
    }
   ],
   "source": [
    "n_top_words = 8\n",
    "\n",
    "def top_words(topic_dist,n_top_words=10):\n",
    "    return(np.array(vocab)[np.argsort(topic_dist)][:-(n_top_words+1):-1])\n",
    "\n",
    "for i, topic_dist in enumerate(tw1):\n",
    "    topic_words = top_words(topic_dist,8)\n",
    "    print('Topic {}: {}'.format(i, ' '.join(topic_words)))"
   ]
  },
  {
   "cell_type": "markdown",
   "metadata": {},
   "source": [
    "To get a sense of how much we can trust the topics, we can look at the same output for the other version of the model and see which topics look similar."
   ]
  },
  {
   "cell_type": "code",
   "execution_count": 17,
   "metadata": {
    "collapsed": false
   },
   "outputs": [
    {
     "name": "stdout",
     "output_type": "stream",
     "text": [
      "Topic 0: المركزي مصرف الآن دولار دينار السيولة المصارف لنتفق\n",
      "Topic 1: المجلس الرئاسي الوفاق لحكومة الوطني رئيس السراج طرابلس\n",
      "Topic 2: ﻣﻦ ﺑﺎﻟﻠﻪ ﺇﻻ ﺍﻟﻠﻪ ﻭﻻ ﻗﻮ ﻋﻠﻰ ﺣﻮﻝ\n",
      "Topic 3: الوطني الوفاق حكومة إن أن إلى السيد الليبي\n",
      "Topic 4: النواب مجلس أن الوفاق المجلس إلى السياسي حكومة\n",
      "Topic 5: الشعب الله الوطن نحن البلاد يجب هم ولكن\n",
      "Topic 6: اللي مش علي البلاد بس والله ربي الي\n",
      "Topic 7: أن علي أو الناس العالم هل لو نحن\n",
      "Topic 8: المتحدة الليبي المؤتمر الاتفاق أن الأمم كوبلر السياسي\n",
      "Topic 9: لنتفق الآن لنتفق_الآن type photos timeline أو الخير\n",
      "Topic 10: أن إلى الخارجية الليبية الاتحاد الأوروبي داعش إن\n",
      "Topic 11: الله لله الملك مافي مابعده خير الآن لنتفق\n",
      "Topic 12: بنغازي الي علي انت انا الجيش كيف الغرب\n",
      "Topic 13: وزارة أن محمد وزيرا زليتن العمل دولة الحكم\n",
      "Topic 14: الآن لنتفق_الآن لنتفق type طرابلس مدينة بنغازي تشجيع\n",
      "Topic 15: أن إلى الليبي أي الدولة الوطنية النفط طرابلس\n",
      "Topic 16: ال اللي وا سيتم تعليقات لنتفق_الآن بـ لنتفق\n",
      "Topic 17: الله يا والله الوطن لنا عليكم الحياة منا\n",
      "Topic 18: أن التضامن أنباء وكالة البرلمان الآن إلى type\n",
      "Topic 19: الله الوكيل ونعم حسبي اللهم ﺍﻟﻠﻪ ﺍﻛﺒﺮ سيدنا\n"
     ]
    }
   ],
   "source": [
    "for i, topic_dist in enumerate(tw2):\n",
    "    topic_words = top_words(topic_dist,8)\n",
    "    print('Topic {}: {}'.format(i, ' '.join(topic_words)))"
   ]
  },
  {
   "cell_type": "markdown",
   "metadata": {},
   "source": [
    "## Finding matching topics\n",
    "We know that only some topics will overlap between the two sets, and that the similar topics may be in a different order. We can easily measure the similarity between two topics by listing the top 100 words in each topic, and counting how many of those top words are in common between the two lists. If two topics have more than 50% of their top 100 words in common, we'll consider them to be a match."
   ]
  },
  {
   "cell_type": "code",
   "execution_count": 18,
   "metadata": {
    "collapsed": false
   },
   "outputs": [
    {
     "name": "stdout",
     "output_type": "stream",
     "text": [
      "[(0, 3), (1, 9), (3, 8), (4, 1), (11, 6), (12, 4), (19, 16)]\n"
     ]
    }
   ],
   "source": [
    "def overlap(td1,td2,n=10):\n",
    "    w1 = top_words(td1,n)\n",
    "    w2 = top_words(td2,n)\n",
    "    return(len(set(w1) & set(w2))/n)\n",
    "\n",
    "match_pairs = []\n",
    "n = tw1.shape[0]\n",
    "for i in range(n):\n",
    "    for j in range(n):\n",
    "        o = overlap(tw1[i,:],tw2[j,:],100)\n",
    "        if o > 0.5:\n",
    "            match_pairs.append((i,j))\n",
    "            \n",
    "print(match_pairs)"
   ]
  },
  {
   "cell_type": "markdown",
   "metadata": {},
   "source": [
    "Out of our two sets of 20 topics, we have 12 matches. The numbers above mean that, for example, topic \\#0 from the first model matches with \\#3 from the second model, while topic \\#1 from the first model matches with \\#9 from the second.\n",
    "## Example posts\n",
    "Each post has a probability -- a number between 0 and 1 -- measuring how likely it is to fit in with any topic. To better understand what is in a topic, we can find a post with a very high probability for that topic. The example below is for topic \\#4 in the first model, which (as far as I can tell from Google Translate) contains terms related to \"presidential\", \"council\", \"national\", \"accord\", and \"Tripoli.\""
   ]
  },
  {
   "cell_type": "code",
   "execution_count": 61,
   "metadata": {
    "collapsed": false,
    "scrolled": true
   },
   "outputs": [
    {
     "data": {
      "text/html": [
       "<div>\n",
       "<table border=\"1\" class=\"dataframe\">\n",
       "  <thead>\n",
       "    <tr style=\"text-align: right;\">\n",
       "      <th></th>\n",
       "      <th>Contents</th>\n",
       "    </tr>\n",
       "  </thead>\n",
       "  <tbody>\n",
       "    <tr>\n",
       "      <th>69</th>\n",
       "      <td>لنتفق الآن\\n\\nhttps://www.facebook.com/GNAMedia/photos/a.1677608715829850.1073741829.1673617552895633/1717773858480002/?type=3\\n\\nالمكتب الإعلامي لرئيس المجلس الرئاسي لحكومة الوفاق الوطني\\n\\nرئيس المجلس الرئاسي السيد فائز السراج يستقبل وزير الشؤون المغاربية والاتحاد الافريقي والجامعة العربية عبد القادر مساهل\\n\\n{ قبل قليل }\\n\\nرئيس المجلس الرئاسي السيد (فائز السراج) يستقبل وزير الشؤون المغاربية والاتحاد الافريقي والجامعة العربية (عبد القادر مساهل)</td>\n",
       "    </tr>\n",
       "    <tr>\n",
       "      <th>2015</th>\n",
       "      <td>لنتفق الآن\\n\\nhttps://www.facebook.com/GNAMedia/photos/a.1677608715829850.1073741829.1673617552895633/1717773858480002/?type=3\\n\\nالمكتب الإعلامي لرئيس المجلس الرئاسي لحكومة الوفاق الوطني\\n\\nرئيس المجلس الرئاسي السيد فائز السراج يستقبل وزير الشؤون المغاربية والاتحاد الافريقي والجامعة العربية عبد القادر مساهل\\n\\n{ قبل قليل }\\n\\nرئيس المجلس الرئاسي السيد (فائز السراج) يستقبل وزير الشؤون المغاربية والاتحاد الافريقي والجامعة العربية (عبد القادر مساهل)</td>\n",
       "    </tr>\n",
       "    <tr>\n",
       "      <th>279</th>\n",
       "      <td>لنتفق الآن\\n\\nhttps://www.facebook.com/GNAMedia/photos/a.1677608715829850.1073741829.1673617552895633/1720813481509373/?type=3\\n\\nالمكتب الإعلامي لرئيس المجلس الرئاسي لحكومة الوفاق الوطني\\n\\nرئيس المجلس الرئاسي السيد فائز السراج يستقبل وزير خارجية اسبانيا السيد خوسيه مانويل غارثيا\\n\\n{ متابعة }\\n\\nصور لرئيس مجلس الرئاسي لحكومة الوفاق الوطني في استقبال وزير خارجية الاسباني اليوم \\n\\n#لنتفق_الآن</td>\n",
       "    </tr>\n",
       "    <tr>\n",
       "      <th>947</th>\n",
       "      <td>لنتفق الآن\\n\\n{ متابعة }\\n\\nهيكلية المقترح الجديد لحكومة الوفاق الوطني كالتالي :\\n- وزارة الخارجية \\n- وزارة التعاون الدولي\\n- وزارة الشؤون العربية والافريقية\\nستصبح (وزارة الخارجية والتعاون الدولى)\\n- وزارة التربية والتعليم\\n- وزارة التعليم والبحث العلمى\\n ستصبح (وزارة التعليم والبحت العلمى)\\n- وزارة الطيران والنقل الجوى\\n- وزارة المواصلات\\n- وزارة الاتصالات\\nستصبح (وزارة المواصلات والنقل الجوى)\\n- وزارة الاقتصاد\\n- وزارة التخطيط\\n- وزارة المالية\\nستصبح (وزارة المالية والتخطيط)\\n- وزارة الحكم المحلى\\n- وزارة المصالحة الوطنية\\n- وزير الدولة لحقوق الانسان\\n ستصبح (وزارة الشؤون الاجتماعية والحكم المحلى)\\n- وزارة الزراعة\\n- وزارة الصناعة .\\nستصبح (وزارة الزراعة والصناعة)\\n- وزارة الموارد المائية\\nستصبح (الهيئة العامة للموارد المائية)\\n- وزارة الثقافة\\n- وزارة الاعلام\\nستصبح (وزارة الاعلام والثقافة)\\n- وزارة الكهرباء\\nستصبح (المؤسسة العامة للكهرباء)\\n- وزارة العمل\\n- وزارة التدريب والتكوين المهنى\\nستصبح (وزارة العمل والتدريب)\\n- وزارة الاسكان\\nستصبح (وزارة الاسكان والمرافق)\\n- وزارة ال...</td>\n",
       "    </tr>\n",
       "    <tr>\n",
       "      <th>1555</th>\n",
       "      <td>لنتفق الآن\\n\\nhttps://www.facebook.com/GNAMedia/photos/a.1677608715829850.1073741829.1673617552895633/1716479268609461/?type=3\\n\\nالمكتب الإعلامي لرئيس المجلس الرئاسي لحكومة الوفاق الوطني\\n\\n{ متابعة }\\n\\nاجتمع نائب رئيس المجلس الرئاسي لحكومة الوفاق الوطني الدكتور (فتحي المجبري) أول أمس الجمعة الموافق 15 ابريل 2016 مع عدد من عمداء البلديات بالمنطقة الشرقية.\\n\\n#لنتفق_الآن</td>\n",
       "    </tr>\n",
       "  </tbody>\n",
       "</table>\n",
       "</div>"
      ],
      "text/plain": [
       "                                                                                                                                                                                                                                                                                                                                                                                                                                                                                                                                                                                                                                                                                                                                                                                                                                                                                                                                                                                                                                     Contents\n",
       "69                                                                                                                                                                                                                                                                                                                                                                                                                                                                                                                                                                        لنتفق الآن\\n\\nhttps://www.facebook.com/GNAMedia/photos/a.1677608715829850.1073741829.1673617552895633/1717773858480002/?type=3\\n\\nالمكتب الإعلامي لرئيس المجلس الرئاسي لحكومة الوفاق الوطني\\n\\nرئيس المجلس الرئاسي السيد فائز السراج يستقبل وزير الشؤون المغاربية والاتحاد الافريقي والجامعة العربية عبد القادر مساهل\\n\\n{ قبل قليل }\\n\\nرئيس المجلس الرئاسي السيد (فائز السراج) يستقبل وزير الشؤون المغاربية والاتحاد الافريقي والجامعة العربية (عبد القادر مساهل)\n",
       "2015                                                                                                                                                                                                                                                                                                                                                                                                                                                                                                                                                                      لنتفق الآن\\n\\nhttps://www.facebook.com/GNAMedia/photos/a.1677608715829850.1073741829.1673617552895633/1717773858480002/?type=3\\n\\nالمكتب الإعلامي لرئيس المجلس الرئاسي لحكومة الوفاق الوطني\\n\\nرئيس المجلس الرئاسي السيد فائز السراج يستقبل وزير الشؤون المغاربية والاتحاد الافريقي والجامعة العربية عبد القادر مساهل\\n\\n{ قبل قليل }\\n\\nرئيس المجلس الرئاسي السيد (فائز السراج) يستقبل وزير الشؤون المغاربية والاتحاد الافريقي والجامعة العربية (عبد القادر مساهل)\n",
       "279                                                                                                                                                                                                                                                                                                                                                                                                                                                                                                                                                                                                                              لنتفق الآن\\n\\nhttps://www.facebook.com/GNAMedia/photos/a.1677608715829850.1073741829.1673617552895633/1720813481509373/?type=3\\n\\nالمكتب الإعلامي لرئيس المجلس الرئاسي لحكومة الوفاق الوطني\\n\\nرئيس المجلس الرئاسي السيد فائز السراج يستقبل وزير خارجية اسبانيا السيد خوسيه مانويل غارثيا\\n\\n{ متابعة }\\n\\nصور لرئيس مجلس الرئاسي لحكومة الوفاق الوطني في استقبال وزير خارجية الاسباني اليوم \\n\\n#لنتفق_الآن\n",
       "947   لنتفق الآن\\n\\n{ متابعة }\\n\\nهيكلية المقترح الجديد لحكومة الوفاق الوطني كالتالي :\\n- وزارة الخارجية \\n- وزارة التعاون الدولي\\n- وزارة الشؤون العربية والافريقية\\nستصبح (وزارة الخارجية والتعاون الدولى)\\n- وزارة التربية والتعليم\\n- وزارة التعليم والبحث العلمى\\n ستصبح (وزارة التعليم والبحت العلمى)\\n- وزارة الطيران والنقل الجوى\\n- وزارة المواصلات\\n- وزارة الاتصالات\\nستصبح (وزارة المواصلات والنقل الجوى)\\n- وزارة الاقتصاد\\n- وزارة التخطيط\\n- وزارة المالية\\nستصبح (وزارة المالية والتخطيط)\\n- وزارة الحكم المحلى\\n- وزارة المصالحة الوطنية\\n- وزير الدولة لحقوق الانسان\\n ستصبح (وزارة الشؤون الاجتماعية والحكم المحلى)\\n- وزارة الزراعة\\n- وزارة الصناعة .\\nستصبح (وزارة الزراعة والصناعة)\\n- وزارة الموارد المائية\\nستصبح (الهيئة العامة للموارد المائية)\\n- وزارة الثقافة\\n- وزارة الاعلام\\nستصبح (وزارة الاعلام والثقافة)\\n- وزارة الكهرباء\\nستصبح (المؤسسة العامة للكهرباء)\\n- وزارة العمل\\n- وزارة التدريب والتكوين المهنى\\nستصبح (وزارة العمل والتدريب)\\n- وزارة الاسكان\\nستصبح (وزارة الاسكان والمرافق)\\n- وزارة ال...\n",
       "1555                                                                                                                                                                                                                                                                                                                                                                                                                                                                                                                                                                                                                                                   لنتفق الآن\\n\\nhttps://www.facebook.com/GNAMedia/photos/a.1677608715829850.1073741829.1673617552895633/1716479268609461/?type=3\\n\\nالمكتب الإعلامي لرئيس المجلس الرئاسي لحكومة الوفاق الوطني\\n\\n{ متابعة }\\n\\nاجتمع نائب رئيس المجلس الرئاسي لحكومة الوفاق الوطني الدكتور (فتحي المجبري) أول أمس الجمعة الموافق 15 ابريل 2016 مع عدد من عمداء البلديات بالمنطقة الشرقية.\\n\\n#لنتفق_الآن"
      ]
     },
     "execution_count": 61,
     "metadata": {},
     "output_type": "execute_result"
    }
   ],
   "source": [
    "# Show key words and example posts for a given topic in model #1\n",
    "def topic_examples(i,n=10000,num_topics=1):\n",
    "    top_ids = ldamat1[:,i].argsort()[-num_topics:][::-1]\n",
    "    return(long_posts[['Contents']].iloc[top_ids])\n",
    "    #print(long_posts.Contents[np.argmax(ldamat1[:,i])][:n])\n",
    "\n",
    "i = 4\n",
    "te = topic_examples(i,num_topics=5)\n",
    "te"
   ]
  },
  {
   "cell_type": "code",
   "execution_count": null,
   "metadata": {
    "collapsed": true
   },
   "outputs": [],
   "source": [
    "#TODO: A more sophisticated way to do this would be to average the membership probabilities for the two versions of\n",
    "# topics that match -- the results would (probably) be more robust than either model alone. Small detail."
   ]
  }
 ],
 "metadata": {
  "kernelspec": {
   "display_name": "Python 3",
   "language": "python",
   "name": "python3"
  },
  "language_info": {
   "codemirror_mode": {
    "name": "ipython",
    "version": 3
   },
   "file_extension": ".py",
   "mimetype": "text/x-python",
   "name": "python",
   "nbconvert_exporter": "python",
   "pygments_lexer": "ipython3",
   "version": "3.5.1"
  }
 },
 "nbformat": 4,
 "nbformat_minor": 0
}
